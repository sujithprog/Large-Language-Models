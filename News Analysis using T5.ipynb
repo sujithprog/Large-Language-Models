{
 "cells": [
  {
   "cell_type": "code",
   "execution_count": null,
   "id": "43a98710",
   "metadata": {},
   "outputs": [],
   "source": [
    "import pandas as pd\n",
    "from transformers import AutoTokenizer, AutoModelForSeq2SeqLM\n",
    "import torch"
   ]
  },
  {
   "cell_type": "code",
   "execution_count": null,
   "id": "6ca595cc",
   "metadata": {},
   "outputs": [],
   "source": [
    "def analyze_financial_sentiment(news_text, tokenizer, model):\n",
    "    input_text = \"sentiment: \" + news_text\n",
    "    inputs = tokenizer.encode(input_text, return_tensors=\"pt\", max_length=512, padding=\"max_length\", truncation=True)\n",
    "    with torch.no_grad():\n",
    "        outputs = model.generate(inputs, max_length=3)\n",
    "    sentiment_label = tokenizer.decode(outputs[0], skip_special_tokens=True)\n",
    "    return sentiment_label"
   ]
  },
  {
   "cell_type": "code",
   "execution_count": null,
   "id": "534a8597",
   "metadata": {},
   "outputs": [],
   "source": [
    "def assess_equity_risk(sentiment_label):\n",
    "    sentiment_labels = ['negative', 'neutral', 'positive']  # Corresponding to Negative, Neutral, Positive\n",
    "    sentiment = sentiment_label.lower()\n",
    "    \n",
    "    if sentiment == 'positive':\n",
    "        return \"Low Risk\"\n",
    "    elif sentiment == 'negative':\n",
    "        return \"High Risk\"\n",
    "    else:\n",
    "        return \"Medium Risk\""
   ]
  },
  {
   "cell_type": "code",
   "execution_count": null,
   "id": "9024b356",
   "metadata": {},
   "outputs": [],
   "source": [
    "def main():\n",
    "    model_name = \"t5-small\"\n",
    "    tokenizer = AutoTokenizer.from_pretrained(model_name)\n",
    "    model = AutoModelForSeq2SeqLM.from_pretrained(model_name)\n",
    "\n",
    "    dataset = pd.read_csv('Tesla.csv')\n",
    "    \n",
    "    # Add new column 'Sentiment' to the dataset\n",
    "    dataset['Sentiment'] = dataset['News'].apply(lambda x: analyze_financial_sentiment(x, tokenizer, model))\n",
    "    \n",
    "    # Add a new column 'Risk Assessment' to the dataset\n",
    "    dataset['Risk Assessment'] = dataset['Sentiment'].apply(lambda x: assess_equity_risk(x))\n",
    "    \n",
    "    pd.set_option('display.max_colwidth', None)  # To display complete input statements\n",
    "    \n",
    "    # Print the updated dataset with sentiment analysis results\n",
    "    print(dataset[['News', 'Sentiment', 'Risk Assessment']])"
   ]
  },
  {
   "cell_type": "code",
   "execution_count": null,
   "id": "4a2bec1b",
   "metadata": {},
   "outputs": [],
   "source": [
    "if __name__ == \"__main__\":\n",
    "    main()"
   ]
  }
 ],
 "metadata": {
  "kernelspec": {
   "display_name": "Python 3 (ipykernel)",
   "language": "python",
   "name": "python3"
  },
  "language_info": {
   "codemirror_mode": {
    "name": "ipython",
    "version": 3
   },
   "file_extension": ".py",
   "mimetype": "text/x-python",
   "name": "python",
   "nbconvert_exporter": "python",
   "pygments_lexer": "ipython3",
   "version": "3.11.3"
  }
 },
 "nbformat": 4,
 "nbformat_minor": 5
}
