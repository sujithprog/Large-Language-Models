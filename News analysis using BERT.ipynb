{
 "cells": [
  {
   "cell_type": "code",
   "execution_count": null,
   "id": "25966bd3",
   "metadata": {},
   "outputs": [],
   "source": [
    "import pandas as pd\n",
    "from transformers import AutoTokenizer, AutoModelForSequenceClassification\n",
    "import torch"
   ]
  },
  {
   "cell_type": "code",
   "execution_count": null,
   "id": "07259027",
   "metadata": {},
   "outputs": [],
   "source": [
    "model_name = \"bert-base-uncased\""
   ]
  },
  {
   "cell_type": "code",
   "execution_count": null,
   "id": "d0a96a2f",
   "metadata": {},
   "outputs": [],
   "source": [
    "tokenizer = AutoTokenizer.from_pretrained(model_name)\n",
    "model = AutoModelForSequenceClassification.from_pretrained(model_name)"
   ]
  },
  {
   "cell_type": "code",
   "execution_count": null,
   "id": "869d4129",
   "metadata": {},
   "outputs": [],
   "source": [
    "dataset = pd.read_csv('Tesla.csv')"
   ]
  },
  {
   "cell_type": "code",
   "execution_count": null,
   "id": "20c0323c",
   "metadata": {},
   "outputs": [],
   "source": [
    "print(dataset.columns)"
   ]
  },
  {
   "cell_type": "code",
   "execution_count": null,
   "id": "a487c773",
   "metadata": {},
   "outputs": [],
   "source": [
    "def analyze_sentiment(news_text):\n",
    "    inputs = tokenizer.encode_plus(news_text, return_tensors=\"pt\", add_special_tokens=True, truncation=True, padding=True)\n",
    "    with torch.no_grad():\n",
    "        outputs = model(**inputs)\n",
    "        logits = outputs.logits\n",
    "    predicted_class = torch.argmax(logits, dim=1).item()\n",
    "    sentiment_scores = torch.nn.functional.softmax(logits, dim=1).squeeze().tolist()\n",
    "    return predicted_class, sentiment_scores"
   ]
  },
  {
   "cell_type": "code",
   "execution_count": null,
   "id": "6164543f",
   "metadata": {},
   "outputs": [],
   "source": [
    "def assess_risk(sentiment_class):\n",
    "    sentiment_labels = ['Negative', 'Neutral', 'Positive']\n",
    "    sentiment = sentiment_labels[sentiment_class]\n",
    "\n",
    "    if sentiment == 'Positive':\n",
    "        return \"Low Risk\"\n",
    "    elif sentiment == 'Negative':\n",
    "        return \"High Risk\"\n",
    "    else:\n",
    "        return \"Medium Risk\""
   ]
  },
  {
   "cell_type": "code",
   "execution_count": null,
   "id": "f107c098",
   "metadata": {},
   "outputs": [],
   "source": [
    "for index, row in dataset.iterrows():\n",
    "    news_text = row['News']\n",
    "    sentiment_class, sentiment_scores = analyze_sentiment(news_text)\n",
    "    risk_assessment = assess_risk(sentiment_class)\n",
    "    \n",
    "    print(f\"News Text: {news_text}\")\n",
    "    #print(f\"Sentiment Scores: {sentiment_scores}\")\n",
    "    print(f\"Predicted Sentiment: {sentiment_class}\")\n",
    "    print(f\"Risk Assessment: {risk_assessment}\")\n",
    "    print(\"=\" * 50)"
   ]
  }
 ],
 "metadata": {
  "kernelspec": {
   "display_name": "Python 3 (ipykernel)",
   "language": "python",
   "name": "python3"
  },
  "language_info": {
   "codemirror_mode": {
    "name": "ipython",
    "version": 3
   },
   "file_extension": ".py",
   "mimetype": "text/x-python",
   "name": "python",
   "nbconvert_exporter": "python",
   "pygments_lexer": "ipython3",
   "version": "3.11.3"
  }
 },
 "nbformat": 4,
 "nbformat_minor": 5
}
