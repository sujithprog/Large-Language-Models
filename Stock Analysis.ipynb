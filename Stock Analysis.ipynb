{
 "cells": [
  {
   "cell_type": "code",
   "execution_count": null,
   "id": "8c6c45d9",
   "metadata": {},
   "outputs": [],
   "source": [
    "%pip install transformers"
   ]
  },
  {
   "cell_type": "code",
   "execution_count": null,
   "id": "db90d859",
   "metadata": {},
   "outputs": [],
   "source": [
    "from transformers import pipeline"
   ]
  },
  {
   "cell_type": "code",
   "execution_count": null,
   "id": "5da9a64d",
   "metadata": {},
   "outputs": [],
   "source": [
    "sentiment_analyzer = pipeline(\"sentiment-analysis\")"
   ]
  },
  {
   "cell_type": "code",
   "execution_count": null,
   "id": "e6bc2528",
   "metadata": {},
   "outputs": [],
   "source": [
    "def analyze_stock_sentiment(news_headlines):\n",
    "    sentiments = sentiment_analyzer(news_headlines)\n",
    "    return sentiments"
   ]
  },
  {
   "cell_type": "code",
   "execution_count": null,
   "id": "4f6a9179",
   "metadata": {},
   "outputs": [],
   "source": [
    "def generate_recommendation(sentiments):\n",
    "    positive_count = sum(1 for sentiment in sentiments if sentiment['label'] == 'POSITIVE')\n",
    "    negative_count = sum(1 for sentiment in sentiments if sentiment['label'] == 'NEGATIVE')\n",
    "    \n",
    "    if positive_count > negative_count:\n",
    "        return \"BUY\"\n",
    "    elif negative_count > positive_count:\n",
    "        return \"SELL\"\n",
    "    else:\n",
    "        return \"HOLD\""
   ]
  },
  {
   "cell_type": "code",
   "execution_count": null,
   "id": "5f87fa0d",
   "metadata": {},
   "outputs": [],
   "source": [
    "def main():\n",
    "    stock_symbol = \"Reliance\"  # Replace with the stock symbol you want to analyze\n",
    "    news_headlines = [\n",
    "        f\"{stock_symbol} shares surge on positive earnings report.\",\n",
    "        f\"Analysts predict a decline in {stock_symbol} stock value.\",\n",
    "        f\"{stock_symbol} announces new product launch.\"\n",
    "    ]\n",
    "\n",
    "    sentiments = analyze_stock_sentiment(news_headlines)\n",
    "    recommendation = generate_recommendation(sentiments)\n",
    "    #print(\"News Sentiments:\", sentiments)\n",
    "    print(\"Recommendation:\", recommendation)"
   ]
  },
  {
   "cell_type": "code",
   "execution_count": null,
   "id": "282fd91c",
   "metadata": {},
   "outputs": [],
   "source": [
    "if __name__ == \"__main__\":\n",
    "    main()"
   ]
  },
  {
   "cell_type": "code",
   "execution_count": null,
   "id": "49b99d13",
   "metadata": {},
   "outputs": [],
   "source": []
  }
 ],
 "metadata": {
  "kernelspec": {
   "display_name": "Python 3 (ipykernel)",
   "language": "python",
   "name": "python3"
  },
  "language_info": {
   "codemirror_mode": {
    "name": "ipython",
    "version": 3
   },
   "file_extension": ".py",
   "mimetype": "text/x-python",
   "name": "python",
   "nbconvert_exporter": "python",
   "pygments_lexer": "ipython3",
   "version": "3.11.3"
  }
 },
 "nbformat": 4,
 "nbformat_minor": 5
}
