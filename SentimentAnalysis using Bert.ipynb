{
 "cells": [
  {
   "cell_type": "code",
   "execution_count": null,
   "metadata": {},
   "outputs": [],
   "source": [
    "%pip install transformers\n",
    "from transformers import pipeline"
   ]
  },
  {
   "cell_type": "code",
   "execution_count": null,
   "metadata": {},
   "outputs": [],
   "source": [
    "def bert_sentiment_analysis(text): # takes input as text and returns label and score\n",
    "    sentiment_classifier = pipeline(\"sentiment-analysis\") #Using Sentiment-analysis model from pipeline\n",
    "    result = sentiment_classifier(text)[0] # to get highest accurated sentiment\n",
    "    return result['label'], result['score']"
   ]
  },
  {
   "cell_type": "code",
   "execution_count": null,
   "metadata": {},
   "outputs": [],
   "source": [
    "text_to_analyze = \"I absolutely loved the movie! It was fantastic.\""
   ]
  },
  {
   "cell_type": "code",
   "execution_count": null,
   "metadata": {},
   "outputs": [],
   "source": [
    "sentiment_label, confidence_score = bert_sentiment_analysis(text_to_analyze)\n",
    "print(\"Sentiment Label:\", sentiment_label)\n",
    "print(\"Confidence Score:\", confidence_score)"
   ]
  }
 ],
 "metadata": {
  "kernelspec": {
   "display_name": "Python 3",
   "language": "python",
   "name": "python3"
  },
  "language_info": {
   "codemirror_mode": {
    "name": "ipython",
    "version": 3
   },
   "file_extension": ".py",
   "mimetype": "text/x-python",
   "name": "python",
   "nbconvert_exporter": "python",
   "pygments_lexer": "ipython3",
   "version": "3.8.10"
  }
 },
 "nbformat": 4,
 "nbformat_minor": 2
}
