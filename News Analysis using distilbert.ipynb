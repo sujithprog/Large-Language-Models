{
 "cells": [
  {
   "cell_type": "code",
   "execution_count": null,
   "id": "ff9058d1",
   "metadata": {},
   "outputs": [],
   "source": [
    "import pandas as pd\n",
    "from transformers import AutoTokenizer, AutoModelForSequenceClassification\n",
    "import torch"
   ]
  },
  {
   "cell_type": "code",
   "execution_count": null,
   "id": "3ae3f01b",
   "metadata": {},
   "outputs": [],
   "source": [
    "def analyze_financial_sentiment(news_text, tokenizer, model):\n",
    "    inputs = tokenizer.encode_plus(news_text, return_tensors=\"pt\", add_special_tokens=True, truncation=True, padding=True)\n",
    "    with torch.no_grad():\n",
    "        outputs = model(**inputs)\n",
    "        logits = outputs.logits\n",
    "    predicted_class = torch.argmax(logits, dim=1).item()\n",
    "    sentiment_scores = torch.nn.functional.softmax(logits, dim=1).squeeze().tolist()\n",
    "    return predicted_class, sentiment_scores"
   ]
  },
  {
   "cell_type": "code",
   "execution_count": null,
   "id": "0d130e8e",
   "metadata": {},
   "outputs": [],
   "source": [
    "def assess_equity_risk(sentiment_class):\n",
    "    sentiment_labels = ['Negative', 'Neutral', 'Positive']\n",
    "    sentiment = sentiment_labels[sentiment_class]\n",
    "\n",
    "    if sentiment == 'Positive':\n",
    "        return \"Low Risk\"\n",
    "    elif sentiment == 'Negative':\n",
    "        return \"High Risk\"\n",
    "    else:\n",
    "        return \"Medium Risk\""
   ]
  },
  {
   "cell_type": "code",
   "execution_count": null,
   "id": "76b402f7",
   "metadata": {},
   "outputs": [],
   "source": [
    "def main():\n",
    "    model_name = \"distilbert-base-uncased\"\n",
    "    tokenizer = AutoTokenizer.from_pretrained(model_name)\n",
    "    model = AutoModelForSequenceClassification.from_pretrained(model_name)\n",
    "\n",
    "    dataset = pd.read_csv('Tesla.csv')\n",
    "    \n",
    "    # Add new columns 'Sentiment' and 'Sentiment Scores' to the dataset\n",
    "    dataset['Sentiment'], dataset['Sentiment Scores'] = zip(*dataset['News'].apply(lambda x: analyze_financial_sentiment(x, tokenizer, model)))\n",
    "    \n",
    "    # Add a new column 'Risk Assessment' to the dataset\n",
    "    dataset['Risk Assessment'] = dataset['Sentiment'].apply(lambda x: assess_equity_risk(x))\n",
    "    \n",
    "    pd.set_option('display.max_colwidth', None)  # To display complete input statements\n",
    "    data1=print(dataset[['News', 'Sentiment', 'Risk Assessment']])\n",
    "    \n",
    "if __name__ == \"__main__\":\n",
    "    main()"
   ]
  }
 ],
 "metadata": {
  "kernelspec": {
   "display_name": "Python 3 (ipykernel)",
   "language": "python",
   "name": "python3"
  },
  "language_info": {
   "codemirror_mode": {
    "name": "ipython",
    "version": 3
   },
   "file_extension": ".py",
   "mimetype": "text/x-python",
   "name": "python",
   "nbconvert_exporter": "python",
   "pygments_lexer": "ipython3",
   "version": "3.11.3"
  }
 },
 "nbformat": 4,
 "nbformat_minor": 5
}
