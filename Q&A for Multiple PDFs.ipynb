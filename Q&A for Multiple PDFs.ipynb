{
 "cells": [
  {
   "cell_type": "code",
   "execution_count": null,
   "id": "13ef2403-5623-4421-b3ae-e188d4a6bb28",
   "metadata": {},
   "outputs": [],
   "source": [
    "import openai\n",
    "from PyPDF2 import PdfReader\n",
    "from langchain.embeddings.openai import OpenAIEmbeddings\n",
    "from langchain.text_splitter import CharacterTextSplitter\n",
    "from langchain.vectorstores import FAISS\n",
    "from langchain.chains.question_answering import load_qa_chain"
   ]
  },
  {
   "cell_type": "code",
   "execution_count": null,
   "id": "44d638d2-681a-4a03-afc0-f66cd7809e6e",
   "metadata": {},
   "outputs": [],
   "source": [
    "pdf_files = [\"Amazon_Annual_Report.pdf\", \"Samsung_Annual_Report.pdf\", \"Apple_Annual_Report.pdf\"] # Update with your own PDF files\n",
    "\n",
    "pdf_texts = []\n",
    "for pdf_file in pdf_files:\n",
    "    pdfreader = PdfReader(pdf_file)\n",
    "    raw_text = \"\"\n",
    "    for i, page in enumerate(pdfreader.pages):\n",
    "        content = page.extract_text()\n",
    "        if content:\n",
    "            raw_text += content\n",
    "\n",
    "    pdf_texts.append(raw_text)\n",
    "#This function will take a list of PDF files and return a list of text extracted from the PDF files."
   ]
  },
  {
   "cell_type": "code",
   "execution_count": null,
   "id": "74fcf9e0-9656-4a71-8422-59bf99ad1746",
   "metadata": {},
   "outputs": [],
   "source": [
    "texts = []\n",
    "for pdf_text in pdf_texts:\n",
    "    text_splitter = CharacterTextSplitter(\n",
    "        separator=\"\\n\",\n",
    "        chunk_size=800,\n",
    "        chunk_overlap=200,\n",
    "        length_function=len,\n",
    "    )\n",
    "    texts.extend(text_splitter.split_text(pdf_text))\n",
    "# This function will split the text into chunks of 800 characters with an overlap of 200 characters of the text"
   ]
  },
  {
   "cell_type": "code",
   "execution_count": 4,
   "id": "37807a36-64ad-4711-a3ef-8db86bd3f5f6",
   "metadata": {},
   "outputs": [],
   "source": [
    "API_KEY = \"Your_OpenAI_API_Key\"\n",
    "llm = openai(\n",
    "    model=\"gpt-3.5-turbo\",\n",
    "    openai_api_key=API_KEY,\n",
    "   \n",
    ")"
   ]
  },
  {
   "cell_type": "code",
   "execution_count": 5,
   "id": "2aed2599-46a2-45a6-a0ca-92252291c86e",
   "metadata": {},
   "outputs": [],
   "source": [
    "from langchain_community.embeddings import HuggingFaceEmbeddings\n",
    "model_name = \"sentence-transformers/all-mpnet-base-v2\"\n",
    "embeddings = HuggingFaceEmbeddings(model_name=model_name)\n",
    "#This function will load the Hugging Face embeddings model"
   ]
  },
  {
   "cell_type": "code",
   "execution_count": 6,
   "id": "2a5e78d8-24d3-4166-820d-dbce02ad9a51",
   "metadata": {},
   "outputs": [],
   "source": [
    "document_search = FAISS.from_texts(texts, embeddings)\n",
    "#The above line will create a FAISS index for the text chunks"
   ]
  },
  {
   "cell_type": "code",
   "execution_count": 7,
   "id": "acef4a80-af07-4805-b0cc-48a079235663",
   "metadata": {},
   "outputs": [],
   "source": [
    "chain = load_qa_chain(AzureChatOpenAI(deployment_name = \"Your_deployment_name\", model_name=\"Your_model_name\",),chain_type=\"stuff\")\n",
    "#This function will load the question answering chain"
   ]
  },
  {
   "cell_type": "code",
   "execution_count": null,
   "id": "1a2c2441-855d-46df-b514-d30d0813aa86",
   "metadata": {},
   "outputs": [],
   "source": [
    "query = \"What is the trend analysis of Apple and Samsung revenue by product segment in the year 2021?\"\n",
    "docs = document_search.similarity_search(query)\n",
    "answer = chain.run(input_documents=docs, question=query)\n",
    "print(answer)\n",
    "#This function will search for the answer to the query in the text chunks and return the answer"
   ]
  },
  {
   "cell_type": "code",
   "execution_count": null,
   "id": "d3aba1e0-6f75-4633-8249-867553829282",
   "metadata": {},
   "outputs": [],
   "source": [
    "query1 = \"Generate the trend analysis of Apple and Samsung revenue.Provide the following information in the form of bullet points.\"\n",
    "docs = document_search.similarity_search(query1)\n",
    "prompt_template = \"As an expert financial analyst please be quantitative and specific{}\"\n",
    "answer = chain.run(input_documents=docs, prompt=prompt_template.format(query1),question = query1)\n",
    "print(answer)\n",
    "#This function will generate the result using the prompt template"
   ]
  }
 ],
 "metadata": {
  "kernelspec": {
   "display_name": "Python 3 (ipykernel)",
   "language": "python",
   "name": "python3"
  },
  "language_info": {
   "codemirror_mode": {
    "name": "ipython",
    "version": 3
   },
   "file_extension": ".py",
   "mimetype": "text/x-python",
   "name": "python",
   "nbconvert_exporter": "python",
   "pygments_lexer": "ipython3",
   "version": "3.11.3"
  }
 },
 "nbformat": 4,
 "nbformat_minor": 5
}
