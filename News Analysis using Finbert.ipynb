{
 "cells": [
  {
   "cell_type": "code",
   "execution_count": null,
   "id": "938a5e00",
   "metadata": {},
   "outputs": [],
   "source": [
    "pip install transformers"
   ]
  },
  {
   "cell_type": "code",
   "execution_count": null,
   "id": "836d8bb4",
   "metadata": {},
   "outputs": [],
   "source": [
    "import torch\n",
    "from transformers import AutoTokenizer, AutoModelForSequenceClassification"
   ]
  },
  {
   "cell_type": "code",
   "execution_count": null,
   "id": "5489d60f",
   "metadata": {},
   "outputs": [],
   "source": [
    "def analyze_financial_sentiment(news_text, model, tokenizer):\n",
    "    inputs = tokenizer.encode_plus(news_text, return_tensors=\"pt\", add_special_tokens=True, truncation=True, padding=True)\n",
    "    with torch.no_grad():\n",
    "        outputs = model(**inputs)\n",
    "        logits = outputs.logits\n",
    "    predicted_class = torch.argmax(logits, dim=1).item()\n",
    "    return predicted_class\n"
   ]
  },
  {
   "cell_type": "code",
   "execution_count": null,
   "id": "37d00be3",
   "metadata": {},
   "outputs": [],
   "source": [
    "def assess_equity_risk(news_text, model, tokenizer):\n",
    "    sentiment_class = analyze_financial_sentiment(news_text, model, tokenizer)\n",
    "\n",
    "    sentiment_labels = ['Neutral', 'Positive', 'Negative']\n",
    "    sentiment = sentiment_labels[sentiment_class]\n",
    "\n",
    "    if sentiment == 'Positive':\n",
    "        return \"Low Risk, So you can buy the shares\"\n",
    "    elif sentiment == 'Negative':\n",
    "        return \"High Risk , So you can sell the shares\"\n",
    "    else:\n",
    "        return \"Hold\""
   ]
  },
  {
   "cell_type": "code",
   "execution_count": null,
   "id": "ecdae8e6",
   "metadata": {},
   "outputs": [],
   "source": [
    "def main():\n",
    "    model_name = \"yiyanghkust/finbert-tone\"\n",
    "    tokenizer = AutoTokenizer.from_pretrained(model_name)\n",
    "    model = AutoModelForSequenceClassification.from_pretrained(model_name)\n",
    "\n",
    "    news_text = \"The drop in net worth to $234.4 billion is the seventh-largest decline ever among those in the Bloomberg Billionaires Index, and further narrows the wealth gap between Musk and Bernard Arnault, the world’s two richest people. Musk’s fortune still exceeds that of Arnault, chairman of luxury goods maker LVMH,\"\n",
    "    risk_assessment = assess_equity_risk(news_text, model, tokenizer)\n",
    "\n",
    "    print(\"News Text:\", news_text)\n",
    "    print(\"Risk Assessment:\", risk_assessment)"
   ]
  }
 ],
 "metadata": {
  "kernelspec": {
   "display_name": "Python 3 (ipykernel)",
   "language": "python",
   "name": "python3"
  },
  "language_info": {
   "codemirror_mode": {
    "name": "ipython",
    "version": 3
   },
   "file_extension": ".py",
   "mimetype": "text/x-python",
   "name": "python",
   "nbconvert_exporter": "python",
   "pygments_lexer": "ipython3",
   "version": "3.8.10"
  }
 },
 "nbformat": 4,
 "nbformat_minor": 5
}
