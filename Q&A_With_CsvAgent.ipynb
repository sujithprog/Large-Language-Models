{
 "cells": [
  {
   "cell_type": "code",
   "execution_count": null,
   "id": "9dc2c52b",
   "metadata": {},
   "outputs": [],
   "source": [
    "import openai\n",
    "import pandas as pd\n",
    "from langchain.agents import create_csv_agent"
   ]
  },
  {
   "cell_type": "code",
   "execution_count": null,
   "id": "464a1fb3",
   "metadata": {},
   "outputs": [],
   "source": [
    "df = pd.read_csv(\"Apple_Annual_Report.csv\")\n",
    "df.info()"
   ]
  },
  {
   "cell_type": "code",
   "execution_count": null,
   "id": "64f5b79a",
   "metadata": {},
   "outputs": [],
   "source": [
    "OPENAI_API_KEY = \"Your_OpenAI_API_Key\"\n",
    "llm = openai(\n",
    "    openai_api_key=OPENAI_API_KEY,\n",
    "    model_name=\"gpt-3.5-turbo\", \n",
    ")"
   ]
  },
  {
   "cell_type": "code",
   "execution_count": null,
   "id": "9d2a566f",
   "metadata": {},
   "outputs": [],
   "source": [
    "agent = create_csv_agent(openai(temperature=0,openai_api_key=OPENAI_API_KEY, model_name=\"gpt-3.5-turbo\"), \n",
    "                         \"Apple_Annual_Report.csv\")"
   ]
  },
  {
   "cell_type": "code",
   "execution_count": null,
   "id": "6056ebd0-79e6-4326-bc2f-43d4b8ea730f",
   "metadata": {},
   "outputs": [],
   "source": [
    "agent.run(\" Provide the P/E ratio for the year 2022 for all quarters of apple stock\")"
   ]
  }
 ],
 "metadata": {
  "kernelspec": {
   "display_name": "Python 3 (ipykernel)",
   "language": "python",
   "name": "python3"
  },
  "language_info": {
   "codemirror_mode": {
    "name": "ipython",
    "version": 3
   },
   "file_extension": ".py",
   "mimetype": "text/x-python",
   "name": "python",
   "nbconvert_exporter": "python",
   "pygments_lexer": "ipython3",
   "version": "3.11.3"
  }
 },
 "nbformat": 4,
 "nbformat_minor": 5
}
